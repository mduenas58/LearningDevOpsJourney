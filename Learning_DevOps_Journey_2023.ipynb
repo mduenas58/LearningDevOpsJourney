{
  "nbformat": 4,
  "nbformat_minor": 0,
  "metadata": {
    "colab": {
      "provenance": [],
      "toc_visible": true,
      "authorship_tag": "ABX9TyMzMJFXmG/rk59Ctz+vix2b",
      "include_colab_link": true
    },
    "kernelspec": {
      "name": "python3",
      "display_name": "Python 3"
    },
    "language_info": {
      "name": "python"
    }
  },
  "cells": [
    {
      "cell_type": "markdown",
      "metadata": {
        "id": "view-in-github",
        "colab_type": "text"
      },
      "source": [
        "<a href=\"https://colab.research.google.com/github/mduenas58/LearningDevOpsJourney/blob/master/Learning_DevOps_Journey_2023.ipynb\" target=\"_parent\"><img src=\"https://colab.research.google.com/assets/colab-badge.svg\" alt=\"Open In Colab\"/></a>"
      ]
    },
    {
      "cell_type": "markdown",
      "source": [
        "# Learning DevOps Journey - 2023<br/> \n",
        "\n",
        "### This repository is for the documentation of 'My Journey' on getting the foundational knowledge of DevOps.<br/>\n",
        "### It’s based on The DevOps Bootcamp and two courses from [TechWorld with Nana](https://www.techworld-with-nana.com/):<br/>\n",
        "### [DevOps Bootcamp](https://www.techworld-with-nana.com/devops-bootcamp)<br/>\n",
        "### [GitLab CI/CD](https://www.techworld-with-nana.com/gitlab-cicd-course)<br/>\n",
        "### [Kubernetes Administrator](https://www.techworld-with-nana.com/kubernetes-administrator-cka)<br/>"
      ],
      "metadata": {
        "id": "cNu8ORGFSYv8"
      }
    },
    {
      "cell_type": "markdown",
      "source": [
        "# Section 0: HomeLab Configuration<br/>\n",
        "### Hardware:\n",
        "#### - A Dell Optiplex 9020 Small Form Factor Desktop with Intel Core i7-4770 3.9GHz, HD Graphics 4600 4K Support, 32GB RAM, 1TB SSD.<br/>\n",
        "#### - MacBook Air (MacOS Ventura v.13.1) and Lenovo (Running Ubuntu on bare metal) laptops for remote access the HomeLab.<br/>\n",
        "### Software:\n",
        "#### - Proxmox Virtual Environment 7.3-3 [Documentation](https://proxmox.com/en/downloads/item/proxmox-ve-admin-guide-for-7-x). For spinning different Linux Distros: Ubuntu, Debian, etc. as well a LXC Containers as required.\n",
        "#### Cloud Computing Services:\n",
        "##### - Amazon Web Services (AWS) Account.<br/>\n",
        "##### - Google Cloud Account.<br/>\n",
        "##### - DigitalOcean Account.<br/>\n",
        "#### GitHub Account.<br/>\n",
        "#### GitLAb Account.<br/>\n",
        "#### Google Colaboratory [Notebooks.](https://colab.research.google.com/)<br/>"
      ],
      "metadata": {
        "id": "aRZFopaseqMZ"
      }
    },
    {
      "cell_type": "markdown",
      "source": [
        "# Section 1: DevOps BootCamp"
      ],
      "metadata": {
        "id": "DRVhAyxPXYov"
      }
    },
    {
      "cell_type": "markdown",
      "source": [],
      "metadata": {
        "id": "4fWvbNkOYFo7"
      }
    },
    {
      "cell_type": "markdown",
      "source": [
        "# Section 2: GitLab CI/CD"
      ],
      "metadata": {
        "id": "5MwgusbIXiFj"
      }
    },
    {
      "cell_type": "markdown",
      "source": [
        "# Section 3: Kubernetes Administrator"
      ],
      "metadata": {
        "id": "Op6hIjnxXreE"
      }
    }
  ]
}